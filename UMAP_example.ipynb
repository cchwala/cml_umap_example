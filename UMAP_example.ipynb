{
 "cells": [
  {
   "cell_type": "markdown",
   "metadata": {},
   "source": [
    "# Example notebook for UMAP with CML data"
   ]
  },
  {
   "cell_type": "markdown",
   "metadata": {},
   "source": [
    "### Imports and settings"
   ]
  },
  {
   "cell_type": "code",
   "execution_count": 1,
   "metadata": {},
   "outputs": [],
   "source": [
    "%matplotlib widget\n",
    "import numpy as np\n",
    "import umap\n",
    "import xarray as xr\n",
    "import numba\n",
    "import matplotlib as mpl\n",
    "import matplotlib.pyplot as plt\n",
    "import seaborn as sns\n",
    "# fix random seed for reproducibility\n",
    "random_state = 1234\n",
    "np.random.seed(random_state)\n",
    "# import labelencoder\n",
    "from sklearn.preprocessing import LabelEncoder\n",
    "# instantiate labelencoder object\n",
    "le = LabelEncoder()"
   ]
  },
  {
   "cell_type": "code",
   "execution_count": 2,
   "metadata": {},
   "outputs": [],
   "source": [
    "import warnings\n",
    "warnings.filterwarnings('ignore')"
   ]
  },
  {
   "cell_type": "markdown",
   "metadata": {},
   "source": [
    "### Load data"
   ]
  },
  {
   "cell_type": "code",
   "execution_count": 3,
   "metadata": {},
   "outputs": [],
   "source": [
    "fn='umap_15_link_subset.nc'"
   ]
  },
  {
   "cell_type": "code",
   "execution_count": 4,
   "metadata": {},
   "outputs": [],
   "source": [
    "ds=xr.open_dataset(fn).load()"
   ]
  },
  {
   "cell_type": "code",
   "execution_count": 5,
   "metadata": {},
   "outputs": [
    {
     "data": {
      "text/html": [
       "<pre>&lt;xarray.Dataset&gt;\n",
       "Dimensions:    (n: 32478, x: 60)\n",
       "Dimensions without coordinates: n, x\n",
       "Data variables:\n",
       "    samples    (n, x) float64 65.0 64.0 65.0 64.0 64.0 ... 56.8 55.8 56.8 56.8\n",
       "    radar      (n) float64 1.0 1.0 1.0 1.0 1.0 1.0 ... 0.0 0.0 0.0 0.0 0.0 0.0\n",
       "    rain_rate  (n) float64 0.687 2.562 2.312 0.4484 ... 0.0 0.07475 0.0 0.0\n",
       "    sensor_id  (n) object &#x27;SY2421_2_SY2402_6&#x27; ... &#x27;HY1309_2_HY8929_2&#x27;\n",
       "    timestamp  (n) datetime64[ns] 2017-10-22T13:51:00 ... 2017-10-14T08:51:00</pre>"
      ],
      "text/plain": [
       "<xarray.Dataset>\n",
       "Dimensions:    (n: 32478, x: 60)\n",
       "Dimensions without coordinates: n, x\n",
       "Data variables:\n",
       "    samples    (n, x) float64 65.0 64.0 65.0 64.0 64.0 ... 56.8 55.8 56.8 56.8\n",
       "    radar      (n) float64 1.0 1.0 1.0 1.0 1.0 1.0 ... 0.0 0.0 0.0 0.0 0.0 0.0\n",
       "    rain_rate  (n) float64 0.687 2.562 2.312 0.4484 ... 0.0 0.07475 0.0 0.0\n",
       "    sensor_id  (n) object 'SY2421_2_SY2402_6' ... 'HY1309_2_HY8929_2'\n",
       "    timestamp  (n) datetime64[ns] 2017-10-22T13:51:00 ... 2017-10-14T08:51:00"
      ]
     },
     "execution_count": 5,
     "metadata": {},
     "output_type": "execute_result"
    }
   ],
   "source": [
    "ds"
   ]
  },
  {
   "cell_type": "code",
   "execution_count": 6,
   "metadata": {},
   "outputs": [
    {
     "data": {
      "text/plain": [
       "(32478, 60)"
      ]
     },
     "execution_count": 6,
     "metadata": {},
     "output_type": "execute_result"
    }
   ],
   "source": [
    "samples = ds.samples.values\n",
    "radar = ds.radar.values\n",
    "rain_rate = ds.rain_rate.values\n",
    "sensor_id = ds.sensor_id.values\n",
    "timestamp = ds.timestamp.values\n",
    "samples.shape"
   ]
  },
  {
   "cell_type": "code",
   "execution_count": 7,
   "metadata": {},
   "outputs": [],
   "source": [
    "rain_rate_x=rain_rate.copy()\n",
    "rain_rate_x[rain_rate_x<0.1]=0.0001"
   ]
  },
  {
   "cell_type": "code",
   "execution_count": 8,
   "metadata": {},
   "outputs": [],
   "source": [
    "id_list_num=le.fit_transform(sensor_id)"
   ]
  },
  {
   "cell_type": "markdown",
   "metadata": {},
   "source": [
    "### Some statistics"
   ]
  },
  {
   "cell_type": "code",
   "execution_count": 9,
   "metadata": {},
   "outputs": [
    {
     "data": {
      "application/vnd.jupyter.widget-view+json": {
       "model_id": "ab573e80c82e465791ed2358b25a8874",
       "version_major": 2,
       "version_minor": 0
      },
      "text/plain": [
       "Canvas(toolbar=Toolbar(toolitems=[('Home', 'Reset original view', 'home', 'home'), ('Back', 'Back to previous …"
      ]
     },
     "metadata": {},
     "output_type": "display_data"
    }
   ],
   "source": [
    "sns.distplot(rain_rate, kde=False)\n",
    "plt.yscale('log')\n",
    "plt.ylabel('count []')\n",
    "plt.xlabel('rain rate [mmh$^{-1}$]')\n",
    "plt.show()"
   ]
  },
  {
   "cell_type": "code",
   "execution_count": 10,
   "metadata": {},
   "outputs": [
    {
     "name": "stdout",
     "output_type": "stream",
     "text": [
      "There are  15  different CMLs in the data set.\n",
      "The dataset consists of  425  days of data.\n",
      "Thats  10220  hours.\n"
     ]
    }
   ],
   "source": [
    "print('There are ',len(np.unique(sensor_id)),' different CMLs in the data set.')\n",
    "print('The dataset consists of ',int((max(timestamp)-min(timestamp))/ np.timedelta64(1,'D')), ' days of data.')\n",
    "print('Thats ',int((max(timestamp)-min(timestamp))/ np.timedelta64(1,'h')), ' hours.')"
   ]
  },
  {
   "cell_type": "markdown",
   "metadata": {},
   "source": [
    "### Imports and settings"
   ]
  },
  {
   "cell_type": "code",
   "execution_count": 11,
   "metadata": {},
   "outputs": [
    {
     "name": "stdout",
     "output_type": "stream",
     "text": [
      "UMAP(a=None, angular_rp_forest=False, b=None, init='spectral',\n",
      "     learning_rate=1.0, local_connectivity=1.0, metric='euclidean',\n",
      "     metric_kwds=None, min_dist=0.1, n_components=2, n_epochs=None,\n",
      "     n_neighbors=4, negative_sample_rate=5, random_state=1234,\n",
      "     repulsion_strength=1.0, set_op_mix_ratio=1.0, spread=1.0,\n",
      "     target_metric='categorical', target_metric_kwds=None,\n",
      "     target_n_neighbors=-1, target_weight=0.5, transform_queue_size=4.0,\n",
      "     transform_seed=42, verbose=1)\n",
      "Construct fuzzy simplicial set\n",
      "Tue Feb 18 17:29:13 2020 Finding Nearest Neighbors\n",
      "Tue Feb 18 17:29:13 2020 Building RP forest with 14 trees\n",
      "Tue Feb 18 17:29:14 2020 NN descent for 15 iterations\n",
      "\t 0  /  15\n",
      "\t 1  /  15\n",
      "\t 2  /  15\n",
      "\t 3  /  15\n",
      "\t 4  /  15\n",
      "Tue Feb 18 17:29:16 2020 Finished Nearest Neighbor Search\n",
      "Tue Feb 18 17:29:17 2020 Construct embedding\n",
      "\tcompleted  0  /  200 epochs\n",
      "\tcompleted  20  /  200 epochs\n",
      "\tcompleted  40  /  200 epochs\n",
      "\tcompleted  60  /  200 epochs\n",
      "\tcompleted  80  /  200 epochs\n",
      "\tcompleted  100  /  200 epochs\n",
      "\tcompleted  120  /  200 epochs\n",
      "\tcompleted  140  /  200 epochs\n",
      "\tcompleted  160  /  200 epochs\n",
      "\tcompleted  180  /  200 epochs\n",
      "Tue Feb 18 17:29:41 2020 Finished embedding\n",
      "CPU times: user 1min 33s, sys: 18.9 s, total: 1min 52s\n",
      "Wall time: 28.2 s\n"
     ]
    }
   ],
   "source": [
    "%%time\n",
    "k=4\n",
    "trans = umap.UMAP(n_neighbors=k, # number of neighbours for manifold approximation\n",
    "                  min_dist=0.1, # minimum distance of points\n",
    "                  n_components=2, # dimension of low dimensional representation\n",
    "                  metric='euclidean', # metric for distance between points in high dimensional space\n",
    "                  random_state=random_state,\n",
    "                  verbose=1\n",
    "                 ).fit(samples) # the actual data we use for approximation"
   ]
  },
  {
   "cell_type": "code",
   "execution_count": 12,
   "metadata": {},
   "outputs": [
    {
     "name": "stdout",
     "output_type": "stream",
     "text": [
      "CPU times: user 18.7 ms, sys: 148 µs, total: 18.8 ms\n",
      "Wall time: 17.5 ms\n"
     ]
    }
   ],
   "source": [
    "%%time\n",
    "embedding2d = trans.transform(samples)\n",
    "xs2 = embedding2d[:,0]\n",
    "ys2 = embedding2d[:,1]"
   ]
  },
  {
   "cell_type": "code",
   "execution_count": 27,
   "metadata": {},
   "outputs": [
    {
     "data": {
      "application/vnd.jupyter.widget-view+json": {
       "model_id": "fc2d93ceb27a4052b8ff8fe7825f445a",
       "version_major": 2,
       "version_minor": 0
      },
      "text/plain": [
       "Canvas(toolbar=Toolbar(toolitems=[('Home', 'Reset original view', 'home', 'home'), ('Back', 'Back to previous …"
      ]
     },
     "metadata": {},
     "output_type": "display_data"
    }
   ],
   "source": [
    "fig, axs = plt.subplots(1,2,figsize=(12,5))\n",
    "# axs[0].set_title('click on point to plot time series')\n",
    "  # 5 points tolerance\n",
    "col = axs[0].scatter(xs2, ys2, c=radar, picker=5, s=1, cmap='bwr_r')\n",
    "\n",
    "def onpick(event):\n",
    "\n",
    "    if event.artist!=col: return True\n",
    "\n",
    "    N = len(event.ind)\n",
    "    if not N: return True\n",
    "\n",
    "    axs[1].clear()\n",
    "    for subplotnum, dataind in enumerate(event.ind[:3]):\n",
    "\n",
    "        axs[1].plot(np.arange(0,60), samples[dataind], label=sensor_id[dataind]+' | '+str(np.round(rain_rate[dataind],decimals=2))+' mmh$^{-1}$')\n",
    "        axs[1].set_ylabel('TRSL [dB]')\n",
    "        axs[1].set_xlabel('time [minutes]')\n",
    "        axs[1].set_xticks(np.arange(0,61,10))\n",
    "        axs[1].legend()\n",
    "        \n",
    "    return True\n",
    "\n",
    "fig.canvas.mpl_connect('pick_event', onpick)\n",
    "axs[0].set_title('wet is blue and dry is red')\n",
    "plt.tight_layout()\n",
    "plt.show()"
   ]
  },
  {
   "cell_type": "code",
   "execution_count": 14,
   "metadata": {},
   "outputs": [
    {
     "data": {
      "application/vnd.jupyter.widget-view+json": {
       "model_id": "4c40dd14e3e54bb09338e8082134206b",
       "version_major": 2,
       "version_minor": 0
      },
      "text/plain": [
       "Canvas(toolbar=Toolbar(toolitems=[('Home', 'Reset original view', 'home', 'home'), ('Back', 'Back to previous …"
      ]
     },
     "metadata": {},
     "output_type": "display_data"
    }
   ],
   "source": [
    "fig, axs = plt.subplots(1,2,figsize=(12,5))\n",
    "# axs[0].set_title('click on point to plot time series')\n",
    "  # 5 points tolerance\n",
    "col = axs[0].scatter(xs2, ys2, c=rain_rate_x, picker=5, s=1, cmap='bwr_r', norm=mpl.colors.LogNorm())\n",
    "\n",
    "def onpick(event):\n",
    "\n",
    "    if event.artist!=col: return True\n",
    "\n",
    "    N = len(event.ind)\n",
    "    if not N: return True\n",
    "\n",
    "    axs[1].clear()\n",
    "    for subplotnum, dataind in enumerate(event.ind[:3]):\n",
    "\n",
    "        axs[1].plot(np.arange(0,60), samples[dataind], label=sensor_id[dataind]+' | '+str(np.round(rain_rate[dataind],decimals=2))+' mmh$^{-1}$')\n",
    "        axs[1].set_ylabel('TRSL [dB]')\n",
    "        axs[1].set_xlabel('time [minutes]')\n",
    "        axs[1].set_xticks(np.arange(0,61,10))\n",
    "        axs[1].legend()\n",
    "        \n",
    "    return True\n",
    "\n",
    "fig.canvas.mpl_connect('pick_event', onpick)\n",
    "plt.colorbar(col, ax=axs[0], label='rain rate [mmh$^{-1}$]')\n",
    "plt.tight_layout()\n",
    "plt.show()"
   ]
  },
  {
   "cell_type": "code",
   "execution_count": 15,
   "metadata": {},
   "outputs": [
    {
     "data": {
      "application/vnd.jupyter.widget-view+json": {
       "model_id": "e0ec9b29ac41460bbfe238c13a6e5f66",
       "version_major": 2,
       "version_minor": 0
      },
      "text/plain": [
       "Canvas(toolbar=Toolbar(toolitems=[('Home', 'Reset original view', 'home', 'home'), ('Back', 'Back to previous …"
      ]
     },
     "metadata": {},
     "output_type": "display_data"
    }
   ],
   "source": [
    "fig, axs = plt.subplots(1,2,figsize=(12,5))\n",
    "# axs[0].set_title('click on point to plot time series')\n",
    "  # 5 points tolerance\n",
    "col = axs[0].scatter(xs2, ys2, c=id_list_num, picker=5, s=1, cmap=plt.cm.get_cmap('viridis', 15))\n",
    "\n",
    "def onpick(event):\n",
    "\n",
    "    if event.artist!=col: return True\n",
    "\n",
    "    N = len(event.ind)\n",
    "    if not N: return True\n",
    "\n",
    "    axs[1].clear()\n",
    "    for subplotnum, dataind in enumerate(event.ind[:3]):\n",
    "\n",
    "        axs[1].plot(np.arange(0,60), samples[dataind], label=sensor_id[dataind]+' '+str(np.round(rain_rate[dataind],decimals=2)))\n",
    "        axs[1].set_ylabel('TRSL [dB]')\n",
    "        axs[1].set_xlabel('time [minutes]')\n",
    "        axs[1].set_xticks(np.arange(0,61,10))\n",
    "        axs[1].legend()\n",
    "        \n",
    "    return True\n",
    "\n",
    "fig.canvas.mpl_connect('pick_event', onpick)\n",
    "plt.colorbar(col, ax=axs[0], label='CML_id')\n",
    "plt.tight_layout()\n",
    "plt.show()"
   ]
  },
  {
   "cell_type": "markdown",
   "metadata": {},
   "source": [
    "## Normalize samples and redo analysis"
   ]
  },
  {
   "cell_type": "code",
   "execution_count": 16,
   "metadata": {},
   "outputs": [],
   "source": [
    "samples_norm = samples.copy()\n",
    "samples_norm = [x-y for x,y in zip(samples_norm, np.min(samples_norm, axis=-1))]"
   ]
  },
  {
   "cell_type": "code",
   "execution_count": 17,
   "metadata": {},
   "outputs": [
    {
     "name": "stdout",
     "output_type": "stream",
     "text": [
      "UMAP(a=None, angular_rp_forest=False, b=None, init='spectral',\n",
      "     learning_rate=1.0, local_connectivity=1.0, metric='euclidean',\n",
      "     metric_kwds=None, min_dist=0.1, n_components=2, n_epochs=None,\n",
      "     n_neighbors=4, negative_sample_rate=5, random_state=1234,\n",
      "     repulsion_strength=1.0, set_op_mix_ratio=1.0, spread=1.0,\n",
      "     target_metric='categorical', target_metric_kwds=None,\n",
      "     target_n_neighbors=-1, target_weight=0.5, transform_queue_size=4.0,\n",
      "     transform_seed=42, verbose=1)\n",
      "Construct fuzzy simplicial set\n",
      "Tue Feb 18 17:29:41 2020 Finding Nearest Neighbors\n",
      "Tue Feb 18 17:29:41 2020 Building RP forest with 14 trees\n",
      "Tue Feb 18 17:29:42 2020 NN descent for 15 iterations\n",
      "\t 0  /  15\n",
      "\t 1  /  15\n",
      "\t 2  /  15\n",
      "\t 3  /  15\n",
      "\t 4  /  15\n",
      "\t 5  /  15\n",
      "Tue Feb 18 17:29:44 2020 Finished Nearest Neighbor Search\n",
      "Tue Feb 18 17:29:44 2020 Construct embedding\n",
      "\tcompleted  0  /  200 epochs\n",
      "\tcompleted  20  /  200 epochs\n",
      "\tcompleted  40  /  200 epochs\n",
      "\tcompleted  60  /  200 epochs\n",
      "\tcompleted  80  /  200 epochs\n",
      "\tcompleted  100  /  200 epochs\n",
      "\tcompleted  120  /  200 epochs\n",
      "\tcompleted  140  /  200 epochs\n",
      "\tcompleted  160  /  200 epochs\n",
      "\tcompleted  180  /  200 epochs\n",
      "Tue Feb 18 17:30:02 2020 Finished embedding\n",
      "CPU times: user 45 s, sys: 6.16 s, total: 51.1 s\n",
      "Wall time: 20.4 s\n"
     ]
    }
   ],
   "source": [
    "%%time\n",
    "k=4\n",
    "trans_n = umap.UMAP(n_neighbors=k, # number of neighbours for manifold approximation\n",
    "                  min_dist=0.1, # minimum distance of points\n",
    "                  n_components=2, # dimension of low dimensional representation\n",
    "                  metric='euclidean', # metric for distance between points in high dimensional space\n",
    "                  random_state=random_state,\n",
    "                  verbose=1\n",
    "                 ).fit(samples_norm)"
   ]
  },
  {
   "cell_type": "code",
   "execution_count": 18,
   "metadata": {},
   "outputs": [
    {
     "name": "stdout",
     "output_type": "stream",
     "text": [
      "CPU times: user 25.7 ms, sys: 329 µs, total: 26.1 ms\n",
      "Wall time: 24.8 ms\n"
     ]
    }
   ],
   "source": [
    "%%time\n",
    "embedding2dn = trans_n.transform(samples_norm)\n",
    "xs2n = embedding2dn[:,0]\n",
    "ys2n = embedding2dn[:,1]"
   ]
  },
  {
   "cell_type": "code",
   "execution_count": 19,
   "metadata": {},
   "outputs": [
    {
     "data": {
      "application/vnd.jupyter.widget-view+json": {
       "model_id": "f9bd282349624d33ac87f6e2128c9a3e",
       "version_major": 2,
       "version_minor": 0
      },
      "text/plain": [
       "Canvas(toolbar=Toolbar(toolitems=[('Home', 'Reset original view', 'home', 'home'), ('Back', 'Back to previous …"
      ]
     },
     "metadata": {},
     "output_type": "display_data"
    }
   ],
   "source": [
    "fig, axs = plt.subplots(1,2,figsize=(12,5))\n",
    "# axs[0].set_title('click on point to plot time series')\n",
    "  # 5 points tolerance\n",
    "col = axs[0].scatter(xs2n, ys2n, c=id_list_num, picker=5, s=1, cmap=plt.cm.get_cmap('viridis', 15))\n",
    "\n",
    "def onpick(event):\n",
    "\n",
    "    if event.artist!=col: return True\n",
    "\n",
    "    N = len(event.ind)\n",
    "    if not N: return True\n",
    "\n",
    "    axs[1].clear()\n",
    "    for subplotnum, dataind in enumerate(event.ind[:3]):\n",
    "\n",
    "        axs[1].plot(np.arange(0,60), samples_norm[dataind], label=sensor_id[dataind]+' '+str(np.round(rain_rate[dataind],decimals=2)))\n",
    "        axs[1].set_ylabel('TRSL [dB]')\n",
    "        axs[1].set_xlabel('time [minutes]')\n",
    "        axs[1].set_xticks(np.arange(0,61,10))\n",
    "        axs[1].legend()\n",
    "        \n",
    "    return True\n",
    "\n",
    "fig.canvas.mpl_connect('pick_event', onpick)\n",
    "plt.colorbar(col, ax=axs[0], label='CML_id')\n",
    "plt.tight_layout()\n",
    "plt.show()"
   ]
  },
  {
   "cell_type": "code",
   "execution_count": 20,
   "metadata": {},
   "outputs": [
    {
     "data": {
      "application/vnd.jupyter.widget-view+json": {
       "model_id": "bece6fda0d1b439fb41f0c285eea52c7",
       "version_major": 2,
       "version_minor": 0
      },
      "text/plain": [
       "Canvas(toolbar=Toolbar(toolitems=[('Home', 'Reset original view', 'home', 'home'), ('Back', 'Back to previous …"
      ]
     },
     "metadata": {},
     "output_type": "display_data"
    }
   ],
   "source": [
    "fig, axs = plt.subplots(1,2,figsize=(12,5))\n",
    "# axs[0].set_title('click on point to plot time series')\n",
    "  # 5 points tolerance\n",
    "col = axs[0].scatter(xs2n, ys2n, c=radar, picker=5, s=1, cmap='bwr_r')\n",
    "\n",
    "def onpick(event):\n",
    "\n",
    "    if event.artist!=col: return True\n",
    "\n",
    "    N = len(event.ind)\n",
    "    if not N: return True\n",
    "\n",
    "    axs[1].clear()\n",
    "    for subplotnum, dataind in enumerate(event.ind[:3]):\n",
    "\n",
    "        axs[1].plot(np.arange(0,60), samples_norm[dataind], label=sensor_id[dataind]+' | '+str(np.round(rain_rate[dataind],decimals=2))+' mmh$^{-1}$')\n",
    "        axs[1].set_ylabel('TRSL [dB]')\n",
    "        axs[1].set_xlabel('time [minutes]')\n",
    "        axs[1].set_xticks(np.arange(0,61,10))\n",
    "        axs[1].legend()\n",
    "        \n",
    "    return True\n",
    "\n",
    "fig.canvas.mpl_connect('pick_event', onpick)\n",
    "axs[0].set_title('wet is blue and dry is red')\n",
    "plt.tight_layout()\n",
    "plt.show()"
   ]
  },
  {
   "cell_type": "code",
   "execution_count": 21,
   "metadata": {},
   "outputs": [
    {
     "data": {
      "application/vnd.jupyter.widget-view+json": {
       "model_id": "c930d7cf79614a909bd514c9d52653ad",
       "version_major": 2,
       "version_minor": 0
      },
      "text/plain": [
       "Canvas(toolbar=Toolbar(toolitems=[('Home', 'Reset original view', 'home', 'home'), ('Back', 'Back to previous …"
      ]
     },
     "metadata": {},
     "output_type": "display_data"
    }
   ],
   "source": [
    "fig, axs = plt.subplots(1,2,figsize=(12,5))\n",
    "# axs[0].set_title('click on point to plot time series')\n",
    "  # 5 points tolerance\n",
    "col = axs[0].scatter(xs2n, ys2n, c=rain_rate_x, picker=5, s=1, cmap='bwr_r', norm=mpl.colors.LogNorm())\n",
    "\n",
    "def onpick(event):\n",
    "\n",
    "    if event.artist!=col: return True\n",
    "\n",
    "    N = len(event.ind)\n",
    "    if not N: return True\n",
    "\n",
    "    axs[1].clear()\n",
    "    for subplotnum, dataind in enumerate(event.ind[:3]):\n",
    "\n",
    "        axs[1].plot(np.arange(0,60), samples_norm[dataind], label=sensor_id[dataind]+' | '+str(np.round(rain_rate[dataind],decimals=2))+' mmh$^{-1}$')\n",
    "        axs[1].set_ylabel('TRSL [dB]')\n",
    "        axs[1].set_xlabel('time [minutes]')\n",
    "        axs[1].set_xticks(np.arange(0,61,10))\n",
    "        axs[1].legend()\n",
    "        \n",
    "    return True\n",
    "\n",
    "fig.canvas.mpl_connect('pick_event', onpick)\n",
    "plt.colorbar(col, ax=axs[0], label='rain rate [mmh$^{-1}$]')\n",
    "plt.tight_layout()\n",
    "plt.show()"
   ]
  },
  {
   "cell_type": "markdown",
   "metadata": {},
   "source": [
    "# custom distance measures using numba"
   ]
  },
  {
   "cell_type": "code",
   "execution_count": 22,
   "metadata": {},
   "outputs": [],
   "source": [
    "@numba.njit()\n",
    "def std_dif(x,y):\n",
    "    return np.abs(np.std(x)-np.std(y))\n",
    "\n",
    "@numba.njit()\n",
    "def path_cost_numba(x, y, accumulated_cost, distances):\n",
    "    path = np.zeros((len(x)-1+len(y-1),2))\n",
    "    path[0] = [len(x)-1, len(y)-1]\n",
    "    cost = 0\n",
    "    i = len(y)-1\n",
    "    j = len(x)-1\n",
    "    n=0\n",
    "    while i>0 and j>0:\n",
    "        n=n+1\n",
    "        if i==0:\n",
    "            j = j - 1\n",
    "        elif j==0:\n",
    "            i = i - 1\n",
    "        else:\n",
    "            if accumulated_cost[i-1, j] == min(accumulated_cost[i-1, j-1], accumulated_cost[i-1, j], accumulated_cost[i, j-1]):\n",
    "                i = i - 1\n",
    "            elif accumulated_cost[i, j-1] == min(accumulated_cost[i-1, j-1], accumulated_cost[i-1, j], accumulated_cost[i, j-1]):\n",
    "                j = j-1\n",
    "            else:\n",
    "                i = i - 1\n",
    "                j= j- 1\n",
    "        path[n]=[j, i]\n",
    "    path = path[0:n+2]\n",
    "    for i in range(len(path)):\n",
    "        a, b = path[i]\n",
    "        cost = cost + distances[int(b), int(a)]\n",
    "        \n",
    "    return path, cost\n",
    "\n",
    "@numba.njit()\n",
    "def comp_acc_cost(x, y, distances):\n",
    "    accumulated_cost = np.zeros((len(y), len(x)))\n",
    "    accumulated_cost[0,0] = distances[0,0]\n",
    "    for i in range(1, len(x)):\n",
    "        accumulated_cost[0,i] = distances[0,i] + accumulated_cost[0, i-1]    \n",
    "    for i in range(1, len(y)):\n",
    "        accumulated_cost[i,0] = distances[i, 0] + accumulated_cost[i-1, 0]  \n",
    "    for i in range(1, len(y)):\n",
    "        for j in range(1, len(x)):\n",
    "            accumulated_cost[i, j] = min(accumulated_cost[i-1, j-1], accumulated_cost[i-1, j], accumulated_cost[i, j-1]) + distances[i, j]\n",
    "            \n",
    "    return accumulated_cost\n",
    "\n",
    "@numba.njit()\n",
    "def dtw_cost(x, y):\n",
    "    distances = np.zeros((len(y), len(x)))\n",
    "    for i in range(len(y)):\n",
    "        for j in range(len(x)):\n",
    "            distances[i,j] = (x[j]-y[i])**2\n",
    "    accumulated_cost = comp_acc_cost(x,y,distances)\n",
    "    cost = path_cost_numba(x, y, accumulated_cost, distances)[1]\n",
    "    \n",
    "    return cost"
   ]
  },
  {
   "cell_type": "code",
   "execution_count": 23,
   "metadata": {},
   "outputs": [
    {
     "name": "stdout",
     "output_type": "stream",
     "text": [
      "CPU times: user 3min 57s, sys: 2min 32s, total: 6min 29s\n",
      "Wall time: 1min 21s\n"
     ]
    }
   ],
   "source": [
    "%%time\n",
    "k=15\n",
    "trans_c = umap.UMAP(n_neighbors=k, # number of neighbours for manifold approximation\n",
    "                      min_dist=0.1, # \n",
    "                      n_components=2, # dimension of low dimensional representation\n",
    "                      metric=std_dif, # metric for distance between points in high dimensional space\n",
    "                        random_state=random_state\n",
    "                     ).fit(samples_norm)"
   ]
  },
  {
   "cell_type": "code",
   "execution_count": 24,
   "metadata": {},
   "outputs": [
    {
     "name": "stdout",
     "output_type": "stream",
     "text": [
      "CPU times: user 17.9 ms, sys: 3 ms, total: 20.9 ms\n",
      "Wall time: 20 ms\n"
     ]
    }
   ],
   "source": [
    "%%time\n",
    "embedding2d_c = trans_c.transform(samples_norm)\n",
    "xs2_c = embedding2d_c[:,0]\n",
    "ys2_c = embedding2d_c[:,1]"
   ]
  },
  {
   "cell_type": "code",
   "execution_count": 25,
   "metadata": {},
   "outputs": [
    {
     "data": {
      "application/vnd.jupyter.widget-view+json": {
       "model_id": "32eedf70f4a849848704b6b1865567e8",
       "version_major": 2,
       "version_minor": 0
      },
      "text/plain": [
       "Canvas(toolbar=Toolbar(toolitems=[('Home', 'Reset original view', 'home', 'home'), ('Back', 'Back to previous …"
      ]
     },
     "metadata": {},
     "output_type": "display_data"
    }
   ],
   "source": [
    "fig, axs = plt.subplots(1,2,figsize=(12,5))\n",
    "# axs[0].set_title('click on point to plot time series')\n",
    "  # 5 points tolerance\n",
    "col = axs[0].scatter(xs2_c, ys2_c, c=radar, picker=5, s=1, cmap='bwr_r')\n",
    "\n",
    "def onpick(event):\n",
    "\n",
    "    if event.artist!=col: return True\n",
    "\n",
    "    N = len(event.ind)\n",
    "    if not N: return True\n",
    "\n",
    "    axs[1].clear()\n",
    "    for subplotnum, dataind in enumerate(event.ind[:3]):\n",
    "\n",
    "        axs[1].plot(np.arange(0,60), samples_norm[dataind], label=sensor_id[dataind]+' | '+str(np.round(rain_rate[dataind],decimals=2))+' mmh$^{-1}$')\n",
    "        axs[1].set_ylabel('TRSL [dB]')\n",
    "        axs[1].set_xlabel('time [minutes]')\n",
    "        axs[1].set_xticks(np.arange(0,61,10))\n",
    "        axs[1].legend()\n",
    "        \n",
    "    return True\n",
    "\n",
    "fig.canvas.mpl_connect('pick_event', onpick)\n",
    "axs[0].set_title('wet is blue and dry is red')\n",
    "plt.tight_layout()\n",
    "plt.show()"
   ]
  },
  {
   "cell_type": "code",
   "execution_count": 26,
   "metadata": {},
   "outputs": [
    {
     "data": {
      "application/vnd.jupyter.widget-view+json": {
       "model_id": "b183f32191064c168c2e37417cba28d5",
       "version_major": 2,
       "version_minor": 0
      },
      "text/plain": [
       "Canvas(toolbar=Toolbar(toolitems=[('Home', 'Reset original view', 'home', 'home'), ('Back', 'Back to previous …"
      ]
     },
     "metadata": {},
     "output_type": "display_data"
    }
   ],
   "source": [
    "fig, axs = plt.subplots(1,2,figsize=(12,5))\n",
    "# axs[0].set_title('click on point to plot time series')\n",
    "  # 5 points tolerance\n",
    "col = axs[0].scatter(xs2_c, ys2_c, c=rain_rate_x, picker=5, s=1, cmap='bwr_r', norm=mpl.colors.LogNorm())\n",
    "\n",
    "def onpick(event):\n",
    "\n",
    "    if event.artist!=col: return True\n",
    "\n",
    "    N = len(event.ind)\n",
    "    if not N: return True\n",
    "\n",
    "    axs[1].clear()\n",
    "    for subplotnum, dataind in enumerate(event.ind[:3]):\n",
    "\n",
    "        axs[1].plot(np.arange(0,60), samples_norm[dataind], label=sensor_id[dataind]+' | '+str(np.round(rain_rate[dataind],decimals=2))+' mmh$^{-1}$')\n",
    "        axs[1].set_ylabel('TRSL [dB]')\n",
    "        axs[1].set_xlabel('time [minutes]')\n",
    "        axs[1].set_xticks(np.arange(0,61,10))\n",
    "        axs[1].legend()\n",
    "        \n",
    "    return True\n",
    "\n",
    "fig.canvas.mpl_connect('pick_event', onpick)\n",
    "plt.colorbar(col, ax=axs[0], label='rain rate [mmh$^{-1}$]')\n",
    "plt.tight_layout()\n",
    "plt.show()"
   ]
  },
  {
   "cell_type": "code",
   "execution_count": null,
   "metadata": {},
   "outputs": [],
   "source": []
  },
  {
   "cell_type": "code",
   "execution_count": null,
   "metadata": {},
   "outputs": [],
   "source": []
  }
 ],
 "metadata": {
  "kernelspec": {
   "display_name": "Python 3",
   "language": "python",
   "name": "python3"
  },
  "language_info": {
   "codemirror_mode": {
    "name": "ipython",
    "version": 3
   },
   "file_extension": ".py",
   "mimetype": "text/x-python",
   "name": "python",
   "nbconvert_exporter": "python",
   "pygments_lexer": "ipython3",
   "version": "3.8.1"
  }
 },
 "nbformat": 4,
 "nbformat_minor": 4
}
