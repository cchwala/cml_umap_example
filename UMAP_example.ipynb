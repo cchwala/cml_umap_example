{
 "cells": [
  {
   "cell_type": "code",
   "execution_count": 1,
   "metadata": {},
   "outputs": [],
   "source": [
    "%matplotlib widget\n",
    "import numpy as np\n",
    "import umap\n",
    "import xarray as xr\n",
    "import numba\n",
    "import netCDF4\n",
    "import matplotlib as mpl\n",
    "import matplotlib.pyplot as plt\n",
    "import h5py\n",
    "import seaborn as sns\n",
    "# fix random seed for reproducibility\n",
    "random_state = 1234\n",
    "np.random.seed(random_state)\n",
    "# import labelencoder\n",
    "from sklearn.preprocessing import LabelEncoder\n",
    "# instantiate labelencoder object\n",
    "le = LabelEncoder()"
   ]
  },
  {
   "cell_type": "code",
   "execution_count": 2,
   "metadata": {},
   "outputs": [],
   "source": [
    "import warnings\n",
    "warnings.filterwarnings('ignore')"
   ]
  },
  {
   "cell_type": "code",
   "execution_count": 3,
   "metadata": {},
   "outputs": [],
   "source": [
    "fn='umap_15_link_subset.nc'"
   ]
  },
  {
   "cell_type": "code",
   "execution_count": 4,
   "metadata": {},
   "outputs": [],
   "source": [
    "ds=xr.open_dataset(fn).load()"
   ]
  },
  {
   "cell_type": "code",
   "execution_count": 5,
   "metadata": {},
   "outputs": [
    {
     "data": {
      "text/html": [
       "<pre>&lt;xarray.Dataset&gt;\n",
       "Dimensions:    (n: 32478, x: 60)\n",
       "Dimensions without coordinates: n, x\n",
       "Data variables:\n",
       "    samples    (n, x) float64 65.0 64.0 65.0 64.0 64.0 ... 56.8 55.8 56.8 56.8\n",
       "    radar      (n) float64 1.0 1.0 1.0 1.0 1.0 1.0 ... 0.0 0.0 0.0 0.0 0.0 0.0\n",
       "    rain_rate  (n) float64 0.687 2.562 2.312 0.4484 ... 0.0 0.07475 0.0 0.0\n",
       "    sensor_id  (n) object &#x27;SY2421_2_SY2402_6&#x27; ... &#x27;HY1309_2_HY8929_2&#x27;\n",
       "    timestamp  (n) datetime64[ns] 2017-10-22T13:51:00 ... 2017-10-14T08:51:00</pre>"
      ],
      "text/plain": [
       "<xarray.Dataset>\n",
       "Dimensions:    (n: 32478, x: 60)\n",
       "Dimensions without coordinates: n, x\n",
       "Data variables:\n",
       "    samples    (n, x) float64 65.0 64.0 65.0 64.0 64.0 ... 56.8 55.8 56.8 56.8\n",
       "    radar      (n) float64 1.0 1.0 1.0 1.0 1.0 1.0 ... 0.0 0.0 0.0 0.0 0.0 0.0\n",
       "    rain_rate  (n) float64 0.687 2.562 2.312 0.4484 ... 0.0 0.07475 0.0 0.0\n",
       "    sensor_id  (n) object 'SY2421_2_SY2402_6' ... 'HY1309_2_HY8929_2'\n",
       "    timestamp  (n) datetime64[ns] 2017-10-22T13:51:00 ... 2017-10-14T08:51:00"
      ]
     },
     "execution_count": 5,
     "metadata": {},
     "output_type": "execute_result"
    }
   ],
   "source": [
    "ds"
   ]
  },
  {
   "cell_type": "code",
   "execution_count": 6,
   "metadata": {},
   "outputs": [
    {
     "data": {
      "text/plain": [
       "(32478, 60)"
      ]
     },
     "execution_count": 6,
     "metadata": {},
     "output_type": "execute_result"
    }
   ],
   "source": [
    "samples = ds.samples.values\n",
    "radar = ds.radar.values\n",
    "rain_rate = ds.rain_rate.values\n",
    "sensor_id = ds.sensor_id.values\n",
    "timestamp = ds.timestamp.values\n",
    "samples.shape"
   ]
  },
  {
   "cell_type": "code",
   "execution_count": 7,
   "metadata": {},
   "outputs": [],
   "source": [
    "from sklearn.utils import shuffle\n",
    "\n",
    "samples, radar, rain_rate, sensor_id, timestamp = shuffle(samples, radar, rain_rate, sensor_id, timestamp)"
   ]
  },
  {
   "cell_type": "code",
   "execution_count": 8,
   "metadata": {},
   "outputs": [
    {
     "data": {
      "application/vnd.jupyter.widget-view+json": {
       "model_id": "",
       "version_major": 2,
       "version_minor": 0
      },
      "text/plain": [
       "Canvas(toolbar=Toolbar(toolitems=[('Home', 'Reset original view', 'home', 'home'), ('Back', 'Back to previous …"
      ]
     },
     "metadata": {},
     "output_type": "display_data"
    }
   ],
   "source": [
    "sns.distplot(rain_rate, kde=False)\n",
    "plt.yscale('log')\n",
    "plt.ylabel('count []')\n",
    "plt.xlabel('rain rate [mmh$^{-1}$]')\n",
    "plt.show()"
   ]
  },
  {
   "cell_type": "code",
   "execution_count": 9,
   "metadata": {},
   "outputs": [
    {
     "data": {
      "text/plain": [
       "15"
      ]
     },
     "execution_count": 9,
     "metadata": {},
     "output_type": "execute_result"
    }
   ],
   "source": [
    "len(np.unique(sensor_id))"
   ]
  },
  {
   "cell_type": "code",
   "execution_count": 10,
   "metadata": {},
   "outputs": [
    {
     "data": {
      "text/plain": [
       "numpy.datetime64('2017-08-01T02:51:00.000000000')"
      ]
     },
     "execution_count": 10,
     "metadata": {},
     "output_type": "execute_result"
    }
   ],
   "source": [
    "min(timestamp)"
   ]
  },
  {
   "cell_type": "code",
   "execution_count": 11,
   "metadata": {},
   "outputs": [
    {
     "data": {
      "text/plain": [
       "numpy.datetime64('2018-09-30T22:51:00.000000000')"
      ]
     },
     "execution_count": 11,
     "metadata": {},
     "output_type": "execute_result"
    }
   ],
   "source": [
    "max(timestamp)"
   ]
  },
  {
   "cell_type": "code",
   "execution_count": 12,
   "metadata": {},
   "outputs": [
    {
     "name": "stdout",
     "output_type": "stream",
     "text": [
      "UMAP(a=None, angular_rp_forest=False, b=None, init='spectral',\n",
      "     learning_rate=1.0, local_connectivity=1.0, metric='manhattan',\n",
      "     metric_kwds=None, min_dist=0.1, n_components=2, n_epochs=None,\n",
      "     n_neighbors=4, negative_sample_rate=5, random_state=1234,\n",
      "     repulsion_strength=1.0, set_op_mix_ratio=1, spread=1.0,\n",
      "     target_metric='categorical', target_metric_kwds=None,\n",
      "     target_n_neighbors=-1, target_weight=0.5, transform_queue_size=4.0,\n",
      "     transform_seed=42, verbose=1)\n",
      "Construct fuzzy simplicial set\n",
      "Tue Feb 18 14:57:25 2020 Finding Nearest Neighbors\n",
      "Tue Feb 18 14:57:25 2020 Building RP forest with 14 trees\n",
      "Tue Feb 18 14:57:27 2020 NN descent for 15 iterations\n",
      "\t 0  /  15\n",
      "\t 1  /  15\n",
      "\t 2  /  15\n",
      "\t 3  /  15\n",
      "\t 4  /  15\n",
      "\t 5  /  15\n",
      "Tue Feb 18 14:57:29 2020 Finished Nearest Neighbor Search\n",
      "Tue Feb 18 14:57:30 2020 Construct embedding\n",
      "\tcompleted  0  /  200 epochs\n",
      "\tcompleted  20  /  200 epochs\n",
      "\tcompleted  40  /  200 epochs\n",
      "\tcompleted  60  /  200 epochs\n",
      "\tcompleted  80  /  200 epochs\n",
      "\tcompleted  100  /  200 epochs\n",
      "\tcompleted  120  /  200 epochs\n",
      "\tcompleted  140  /  200 epochs\n",
      "\tcompleted  160  /  200 epochs\n",
      "\tcompleted  180  /  200 epochs\n",
      "Tue Feb 18 14:57:52 2020 Finished embedding\n",
      "CPU times: user 1min 24s, sys: 11 s, total: 1min 35s\n",
      "Wall time: 26.8 s\n"
     ]
    }
   ],
   "source": [
    "%%time\n",
    "k=4\n",
    "trans = umap.UMAP(n_neighbors=k, # number of neighbours for manifold approximation\n",
    "                      min_dist=0.1, # \n",
    "                      n_components=2, # dimension of low dimensional representation\n",
    "                      metric='manhattan', # metric for distance between points in high dimensional space\n",
    "                        set_op_mix_ratio=1,\n",
    "                        init='spectral',\n",
    "                        random_state=random_state,\n",
    "                        verbose=1\n",
    "                     ).fit(samples)"
   ]
  },
  {
   "cell_type": "code",
   "execution_count": 13,
   "metadata": {},
   "outputs": [
    {
     "name": "stdout",
     "output_type": "stream",
     "text": [
      "CPU times: user 15.2 ms, sys: 435 µs, total: 15.7 ms\n",
      "Wall time: 14.4 ms\n"
     ]
    }
   ],
   "source": [
    "%%time\n",
    "embedding2d = trans.transform(samples)\n",
    "xs2 = embedding2d[:,0]\n",
    "ys2 = embedding2d[:,1]"
   ]
  },
  {
   "cell_type": "code",
   "execution_count": 25,
   "metadata": {},
   "outputs": [],
   "source": [
    "def onpick(event):\n",
    "\n",
    "    if event.artist!=col: return True\n",
    "\n",
    "    N = len(event.ind)\n",
    "    if not N: return True\n",
    "\n",
    "\n",
    "    for subplotnum, dataind in enumerate(event.ind[:4]):\n",
    "        axs = fig.add_subplot(421+subplotnum)\n",
    "        axs.plot(np.arange(0,60), samples[dataind])\n",
    "#         plt.ylabel('TRSL [dB]')\n",
    "#         plt.xlabel('time [minutes]')\n",
    "#         plt.xticks(np.arange(0,61,10))\n",
    "#         plt.grid()\n",
    "        axs.text(0.01,0.5, s=radar[dataind],\n",
    "                transform=ax.transAxes, va='top')\n",
    "        \n",
    "    return True"
   ]
  },
  {
   "cell_type": "code",
   "execution_count": 26,
   "metadata": {},
   "outputs": [
    {
     "data": {
      "application/vnd.jupyter.widget-view+json": {
       "model_id": "e7fe68e845cf41f7b136c9e544ea3bad",
       "version_major": 2,
       "version_minor": 0
      },
      "text/plain": [
       "Canvas(toolbar=Toolbar(toolitems=[('Home', 'Reset original view', 'home', 'home'), ('Back', 'Back to previous …"
      ]
     },
     "metadata": {},
     "output_type": "display_data"
    }
   ],
   "source": [
    "%matplotlib widget\n",
    "fig = plt.figure(figsize=(12,5))\n",
    "ax = fig.add_subplot(421)\n",
    "ax.set_title('click on point to plot time series')\n",
    "  # 5 points tolerance\n",
    "col = ax.scatter(xs2, ys2, c=radar, picker=5, s=1, cmap='RdYlGn')\n",
    "\n",
    "fig.canvas.mpl_connect('pick_event', onpick)\n",
    "plt.colorbar(col)\n",
    "plt.tight_layout()\n",
    "plt.show()"
   ]
  },
  {
   "cell_type": "code",
   "execution_count": 27,
   "metadata": {},
   "outputs": [],
   "source": [
    "import matplotlib.gridspec as gridspec"
   ]
  },
  {
   "cell_type": "code",
   "execution_count": 54,
   "metadata": {},
   "outputs": [
    {
     "data": {
      "application/vnd.jupyter.widget-view+json": {
       "model_id": "5af21d8ef13a4586b68da4ec5926d48e",
       "version_major": 2,
       "version_minor": 0
      },
      "text/plain": [
       "Canvas(toolbar=Toolbar(toolitems=[('Home', 'Reset original view', 'home', 'home'), ('Back', 'Back to previous …"
      ]
     },
     "metadata": {},
     "output_type": "display_data"
    }
   ],
   "source": [
    "fig = plt.figure(figsize=(12,5))\n",
    "ax = fig.add_subplot(321)\n",
    "ax.set_title('click on point to plot time series')\n",
    "  # 5 points tolerance\n",
    "col = ax.scatter(xs2, ys2, c=radar, picker=5, s=1, cmap='RdYlGn')\n",
    "\n",
    "def onpick(event):\n",
    "\n",
    "    if event.artist!=col: return True\n",
    "\n",
    "    N = len(event.ind)\n",
    "    if not N: return True\n",
    "\n",
    "\n",
    "    for subplotnum, dataind in enumerate(event.ind[:4]):\n",
    "        axs = fig.add_subplot(322+subplotnum)\n",
    "        axs.plot(np.arange(0,60), samples[dataind])\n",
    "#         plt.ylabel('TRSL [dB]')\n",
    "#         plt.xlabel('time [minutes]')\n",
    "#         plt.xticks(np.arange(0,61,10))\n",
    "#         plt.grid()\n",
    "        axs.text(0.01,0.5, s=radar[dataind],\n",
    "                transform=axs.transAxes, va='top')\n",
    "        \n",
    "    return True\n",
    "\n",
    "fig.canvas.mpl_connect('pick_event', onpick)\n",
    "plt.colorbar(col)\n",
    "plt.tight_layout()\n",
    "plt.show()"
   ]
  },
  {
   "cell_type": "code",
   "execution_count": 81,
   "metadata": {},
   "outputs": [
    {
     "data": {
      "application/vnd.jupyter.widget-view+json": {
       "model_id": "2435c80cf86b4c6fa014fb737cd23066",
       "version_major": 2,
       "version_minor": 0
      },
      "text/plain": [
       "Canvas(toolbar=Toolbar(toolitems=[('Home', 'Reset original view', 'home', 'home'), ('Back', 'Back to previous …"
      ]
     },
     "metadata": {},
     "output_type": "display_data"
    }
   ],
   "source": [
    "fig, axs = plt.subplots(1,2,figsize=(12,5))\n",
    "# axs[0].set_title('click on point to plot time series')\n",
    "  # 5 points tolerance\n",
    "col = axs[0].scatter(xs2, ys2, c=radar, picker=5, s=1, cmap='bwr_r')\n",
    "\n",
    "def onpick(event):\n",
    "\n",
    "    if event.artist!=col: return True\n",
    "\n",
    "    N = len(event.ind)\n",
    "    if not N: return True\n",
    "\n",
    "    axs[1].clear()\n",
    "    for subplotnum, dataind in enumerate(event.ind[:3]):\n",
    "\n",
    "        axs[1].plot(np.arange(0,60), samples[dataind], label=sensor_id[dataind]+' '+str(['dry','wet'][int(radar[dataind])]))\n",
    "#         plt.ylabel('TRSL [dB]')\n",
    "#         plt.xlabel('time [minutes]')\n",
    "#         plt.xticks(np.arange(0,61,10))\n",
    "        axs[1].legend()\n",
    "#         axs[1].text(0.01,0.5, s=radar[dataind],\n",
    "#                 transform=axs[1].transAxes, va='top')\n",
    "        \n",
    "    return True\n",
    "\n",
    "fig.canvas.mpl_connect('pick_event', onpick)\n",
    "plt.colorbar(col, ax=axs[0])\n",
    "plt.tight_layout()\n",
    "plt.show()"
   ]
  },
  {
   "cell_type": "code",
   "execution_count": 76,
   "metadata": {},
   "outputs": [
    {
     "data": {
      "application/vnd.jupyter.widget-view+json": {
       "model_id": "5d3cd5b3089c4dca808520678254abb2",
       "version_major": 2,
       "version_minor": 0
      },
      "text/plain": [
       "Canvas(toolbar=Toolbar(toolitems=[('Home', 'Reset original view', 'home', 'home'), ('Back', 'Back to previous …"
      ]
     },
     "metadata": {},
     "output_type": "display_data"
    }
   ],
   "source": [
    "fig3 = plt.figure(figsize=(15,5))\n",
    "gs = fig3.add_gridspec(3, 4)\n",
    "f3_ax1 = fig3.add_subplot(gs[:, :2])\n",
    "f3_ax1.set_title('click on a point')\n",
    "# f3_ax2 = fig3.add_subplot(gs[0, 2:-1])\n",
    "# f3_ax3 = fig3.add_subplot(gs[1, 2:-1])\n",
    "# f3_ax4 = fig3.add_subplot(gs[2, 2:-1])\n",
    "\n",
    "  # 5 points tolerance\n",
    "col = f3_ax1.scatter(xs2, ys2, c=radar, picker=5, s=1, cmap='bwr_r')\n",
    "\n",
    "def onpick(event):\n",
    "\n",
    "    if event.artist!=col: return True\n",
    "\n",
    "    N = len(event.ind)\n",
    "    if not N: return True\n",
    "    \n",
    "#     axes={'0': f3_ax2, '1': f3_ax3, '2': f3_ax4, }\n",
    "\n",
    "    for subplotnum, dataind in enumerate(event.ind[:3]):\n",
    "#         fig3.delaxes(axes[str(subplotnum)])\n",
    "#         axes[str(subplotnum)] = fig3.add_subplot(gs[subplotnum, 2:-1])\n",
    "        f3_ax4 = fig3.add_subplot(gs[0, 2:-1])\n",
    "        f3_ax4.plot(np.arange(0,60), samples[dataind])\n",
    "#         plt.ylabel('TRSL [dB]')\n",
    "#         plt.xlabel('time [minutes]')\n",
    "#         plt.xticks(np.arange(0,61,10))\n",
    "#         plt.grid()\n",
    "        axes[str(subplotnum)].text(0.01,0.5, s=radar[dataind],\n",
    "                transform=axes[str(subplotnum)].transAxes, va='top')\n",
    "        \n",
    "    return True\n",
    "\n",
    "fig.canvas.mpl_connect('pick_event', onpick)\n",
    "plt.colorbar(col, ax=f3_ax1)\n",
    "plt.tight_layout()\n",
    "plt.show()"
   ]
  },
  {
   "cell_type": "code",
   "execution_count": null,
   "metadata": {},
   "outputs": [],
   "source": [
    "rain_rate_x=rain_rate.copy()\n",
    "rain_rate_x[rain_rate_x<0.1]=0.0001"
   ]
  },
  {
   "cell_type": "code",
   "execution_count": null,
   "metadata": {},
   "outputs": [],
   "source": [
    "fig = plt.figure(figsize=(30,20))\n",
    "ax = fig.add_subplot(111)\n",
    "# ax.set_title('click on point to plot time series')\n",
    "  # 5 points tolerance\n",
    "col = ax.scatter(xs2, ys2, c=rain_rate_x, picker=5, s=3, cmap='viridis', norm=mpl.colors.LogNorm())\n",
    "\n",
    "fig.canvas.mpl_connect('pick_event', onpick)\n",
    "plt.colorbar(col)\n",
    "# plt.axis('off')\n",
    "plt.tight_layout()\n",
    "plt.show()"
   ]
  },
  {
   "cell_type": "code",
   "execution_count": null,
   "metadata": {},
   "outputs": [],
   "source": [
    "id_list_num=le.fit_transform(sensor_id)"
   ]
  },
  {
   "cell_type": "code",
   "execution_count": 77,
   "metadata": {},
   "outputs": [
    {
     "data": {
      "application/vnd.jupyter.widget-view+json": {
       "model_id": "80595859d01041d3b09d80b3d7beb81f",
       "version_major": 2,
       "version_minor": 0
      },
      "text/plain": [
       "Canvas(toolbar=Toolbar(toolitems=[('Home', 'Reset original view', 'home', 'home'), ('Back', 'Back to previous …"
      ]
     },
     "metadata": {},
     "output_type": "display_data"
    },
    {
     "ename": "NameError",
     "evalue": "name 'id_list_num' is not defined",
     "output_type": "error",
     "traceback": [
      "\u001b[0;31m---------------------------------------------------------------------------\u001b[0m",
      "\u001b[0;31mNameError\u001b[0m                                 Traceback (most recent call last)",
      "\u001b[0;32m<ipython-input-77-e1b1f67dc7f0>\u001b[0m in \u001b[0;36m<module>\u001b[0;34m\u001b[0m\n\u001b[1;32m      3\u001b[0m \u001b[0;31m# ax.set_title('click on point to plot time series')\u001b[0m\u001b[0;34m\u001b[0m\u001b[0;34m\u001b[0m\u001b[0;34m\u001b[0m\u001b[0m\n\u001b[1;32m      4\u001b[0m   \u001b[0;31m# 5 points tolerance\u001b[0m\u001b[0;34m\u001b[0m\u001b[0;34m\u001b[0m\u001b[0;34m\u001b[0m\u001b[0m\n\u001b[0;32m----> 5\u001b[0;31m \u001b[0mcol\u001b[0m \u001b[0;34m=\u001b[0m \u001b[0max\u001b[0m\u001b[0;34m.\u001b[0m\u001b[0mscatter\u001b[0m\u001b[0;34m(\u001b[0m\u001b[0mxs2\u001b[0m\u001b[0;34m,\u001b[0m \u001b[0mys2\u001b[0m\u001b[0;34m,\u001b[0m \u001b[0mc\u001b[0m\u001b[0;34m=\u001b[0m\u001b[0mid_list_num\u001b[0m\u001b[0;34m,\u001b[0m \u001b[0mpicker\u001b[0m\u001b[0;34m=\u001b[0m\u001b[0;36m5\u001b[0m\u001b[0;34m,\u001b[0m \u001b[0ms\u001b[0m\u001b[0;34m=\u001b[0m\u001b[0;36m3\u001b[0m\u001b[0;34m,\u001b[0m \u001b[0mcmap\u001b[0m\u001b[0;34m=\u001b[0m\u001b[0;34m'tab20'\u001b[0m\u001b[0;34m)\u001b[0m\u001b[0;34m\u001b[0m\u001b[0;34m\u001b[0m\u001b[0m\n\u001b[0m\u001b[1;32m      6\u001b[0m \u001b[0;34m\u001b[0m\u001b[0m\n\u001b[1;32m      7\u001b[0m \u001b[0mfig\u001b[0m\u001b[0;34m.\u001b[0m\u001b[0mcanvas\u001b[0m\u001b[0;34m.\u001b[0m\u001b[0mmpl_connect\u001b[0m\u001b[0;34m(\u001b[0m\u001b[0;34m'pick_event'\u001b[0m\u001b[0;34m,\u001b[0m \u001b[0monpick\u001b[0m\u001b[0;34m)\u001b[0m\u001b[0;34m\u001b[0m\u001b[0;34m\u001b[0m\u001b[0m\n",
      "\u001b[0;31mNameError\u001b[0m: name 'id_list_num' is not defined"
     ]
    }
   ],
   "source": [
    "fig = plt.figure(figsize=(20,10))\n",
    "ax = fig.add_subplot(111)\n",
    "# ax.set_title('click on point to plot time series')\n",
    "  # 5 points tolerance\n",
    "col = ax.scatter(xs2, ys2, c=id_list_num, picker=5, s=3, cmap='tab20')\n",
    "\n",
    "fig.canvas.mpl_connect('pick_event', onpick)\n",
    "plt.colorbar(col)\n",
    "# plt.axis('off')\n",
    "plt.tight_layout()\n",
    "plt.show()"
   ]
  },
  {
   "cell_type": "code",
   "execution_count": null,
   "metadata": {},
   "outputs": [],
   "source": []
  },
  {
   "cell_type": "code",
   "execution_count": null,
   "metadata": {},
   "outputs": [],
   "source": [
    "samples_norm = samples.copy()\n",
    "samples_norm = [x-y for x,y in zip(samples_norm, np.min(samples_norm, axis=-1))]"
   ]
  },
  {
   "cell_type": "code",
   "execution_count": null,
   "metadata": {},
   "outputs": [],
   "source": [
    "def onpick(event):\n",
    "\n",
    "    if event.artist!=col: return True\n",
    "\n",
    "    N = len(event.ind)\n",
    "    if not N: return True\n",
    "\n",
    "\n",
    "    figi = plt.figure(figsize=(20,10))\n",
    "    for subplotnum, dataind in enumerate(event.ind):\n",
    "        ax = figi.add_subplot(N,1,subplotnum+1)\n",
    "        ax.plot(np.arange(0,60), samples_norm[dataind])\n",
    "        plt.ylabel('TRSL [dB]')\n",
    "        plt.xlabel('time [minutes]')\n",
    "        plt.xticks(np.arange(0,61,10))\n",
    "        plt.grid()\n",
    "        ax.text(0.01,0.5, s=radar[dataind],\n",
    "                transform=ax.transAxes, va='top')\n",
    "    figi.show()\n",
    "    return True"
   ]
  },
  {
   "cell_type": "code",
   "execution_count": null,
   "metadata": {},
   "outputs": [],
   "source": [
    "%%time\n",
    "k=5\n",
    "trans = umap.UMAP(n_neighbors=k, # number of neighbours for manifold approximation\n",
    "                      min_dist=0.1, # \n",
    "                      n_components=2, # dimension of low dimensional representation\n",
    "                      metric='manhattan', # metric for distance between points in high dimensional space\n",
    "                        set_op_mix_ratio=1,\n",
    "                        init='random',\n",
    "                        random_state=random_state\n",
    "                     ).fit(samples_norm)"
   ]
  },
  {
   "cell_type": "code",
   "execution_count": null,
   "metadata": {},
   "outputs": [],
   "source": [
    "%%time\n",
    "embedding2d = trans.transform(samples_norm)\n",
    "xs2 = embedding2d[:,0]\n",
    "ys2 = embedding2d[:,1]"
   ]
  },
  {
   "cell_type": "code",
   "execution_count": 73,
   "metadata": {},
   "outputs": [
    {
     "data": {
      "application/vnd.jupyter.widget-view+json": {
       "model_id": "04d4196118f141c6b9d3406c17fa39ea",
       "version_major": 2,
       "version_minor": 0
      },
      "text/plain": [
       "Canvas(toolbar=Toolbar(toolitems=[('Home', 'Reset original view', 'home', 'home'), ('Back', 'Back to previous …"
      ]
     },
     "metadata": {},
     "output_type": "display_data"
    }
   ],
   "source": [
    "fig = plt.figure(figsize=(20,10))\n",
    "ax = fig.add_subplot(111)\n",
    "ax.set_title('click on point to plot time series')\n",
    "  # 5 points tolerance\n",
    "col = ax.scatter(xs2, ys2, c=radar, picker=5, s=5, cmap='bwr')\n",
    "\n",
    "fig.canvas.mpl_connect('pick_event', onpick)\n",
    "plt.colorbar(col)\n",
    "plt.tight_layout()\n",
    "plt.show()"
   ]
  },
  {
   "cell_type": "code",
   "execution_count": null,
   "metadata": {},
   "outputs": [],
   "source": [
    "fig = plt.figure(figsize=(20,10))\n",
    "ax = fig.add_subplot(111)\n",
    "ax.set_title('click on point to plot time series')\n",
    "  # 5 points tolerance\n",
    "col = ax.scatter(xs2, ys2, c=rain_rate_x, picker=5, s=3, cmap='viridis', norm=mpl.colors.LogNorm())\n",
    "\n",
    "fig.canvas.mpl_connect('pick_event', onpick)\n",
    "plt.colorbar(col)\n",
    "# plt.axis('off')\n",
    "plt.tight_layout()\n",
    "plt.show()"
   ]
  },
  {
   "cell_type": "code",
   "execution_count": null,
   "metadata": {},
   "outputs": [],
   "source": [
    "fig = plt.figure(figsize=(20,10))\n",
    "ax = fig.add_subplot(111)\n",
    "ax.set_title('click on point to plot time series')\n",
    "  # 5 points tolerance\n",
    "col = ax.scatter(xs2, ys2, c=id_list_num, picker=5, s=3, cmap=plt.cm.get_cmap('viridis', 15))\n",
    "fig.canvas.mpl_connect('pick_event', onpick)\n",
    "plt.colorbar(col)\n",
    "# plt.axis('off')\n",
    "plt.tight_layout()\n",
    "plt.show()"
   ]
  },
  {
   "cell_type": "code",
   "execution_count": null,
   "metadata": {},
   "outputs": [],
   "source": []
  },
  {
   "cell_type": "code",
   "execution_count": null,
   "metadata": {},
   "outputs": [],
   "source": [
    "import numpy as np\n",
    "import matplotlib.pyplot as plt\n",
    "\n",
    "fig = plt.figure()\n",
    "ax = fig.add_subplot(111)\n",
    "ax.set_title('click on points')\n",
    "\n",
    "line, = ax.plot(np.random.rand(100), 'o', picker=5)  # 5 points tolerance\n",
    "\n",
    "def onpick(event):\n",
    "    thisline = event.artist\n",
    "    xdata = thisline.get_xdata()\n",
    "    ydata = thisline.get_ydata()\n",
    "    ind = event.ind\n",
    "    points = tuple(zip(xdata[ind], ydata[ind]))\n",
    "    print('onpick points:', points)\n",
    "\n",
    "fig.canvas.mpl_connect('pick_event', onpick)\n",
    "\n",
    "plt.show()\n"
   ]
  },
  {
   "cell_type": "code",
   "execution_count": null,
   "metadata": {},
   "outputs": [],
   "source": []
  },
  {
   "cell_type": "markdown",
   "metadata": {},
   "source": [
    "# Dynamic time warping cost function as a distance measure"
   ]
  },
  {
   "cell_type": "code",
   "execution_count": null,
   "metadata": {},
   "outputs": [],
   "source": [
    "@numba.njit()\n",
    "def std_dif(x,y):\n",
    "    return np.abs(np.std(x)-np.std(y))\n",
    "\n",
    "@numba.njit()\n",
    "def path_cost_numba(x, y, accumulated_cost, distances):\n",
    "    path = np.zeros((len(x)-1+len(y-1),2))\n",
    "    path[0] = [len(x)-1, len(y)-1]\n",
    "    cost = 0\n",
    "    i = len(y)-1\n",
    "    j = len(x)-1\n",
    "    n=0\n",
    "    while i>0 and j>0:\n",
    "        n=n+1\n",
    "        if i==0:\n",
    "            j = j - 1\n",
    "        elif j==0:\n",
    "            i = i - 1\n",
    "        else:\n",
    "            if accumulated_cost[i-1, j] == min(accumulated_cost[i-1, j-1], accumulated_cost[i-1, j], accumulated_cost[i, j-1]):\n",
    "                i = i - 1\n",
    "            elif accumulated_cost[i, j-1] == min(accumulated_cost[i-1, j-1], accumulated_cost[i-1, j], accumulated_cost[i, j-1]):\n",
    "                j = j-1\n",
    "            else:\n",
    "                i = i - 1\n",
    "                j= j- 1\n",
    "        path[n]=[j, i]\n",
    "    path = path[0:n+2]\n",
    "    for i in range(len(path)):\n",
    "        a, b = path[i]\n",
    "        cost = cost + distances[int(b), int(a)]\n",
    "        \n",
    "    return path, cost\n",
    "\n",
    "@numba.njit()\n",
    "def comp_acc_cost(x, y, distances):\n",
    "    accumulated_cost = np.zeros((len(y), len(x)))\n",
    "    accumulated_cost[0,0] = distances[0,0]\n",
    "    for i in range(1, len(x)):\n",
    "        accumulated_cost[0,i] = distances[0,i] + accumulated_cost[0, i-1]    \n",
    "    for i in range(1, len(y)):\n",
    "        accumulated_cost[i,0] = distances[i, 0] + accumulated_cost[i-1, 0]  \n",
    "    for i in range(1, len(y)):\n",
    "        for j in range(1, len(x)):\n",
    "            accumulated_cost[i, j] = min(accumulated_cost[i-1, j-1], accumulated_cost[i-1, j], accumulated_cost[i, j-1]) + distances[i, j]\n",
    "            \n",
    "    return accumulated_cost\n",
    "\n",
    "@numba.njit()\n",
    "def dtw_cost(x, y):\n",
    "    distances = np.zeros((len(y), len(x)))\n",
    "    for i in range(len(y)):\n",
    "        for j in range(len(x)):\n",
    "            distances[i,j] = (x[j]-y[i])**2\n",
    "    accumulated_cost = comp_acc_cost(x,y,distances)\n",
    "    cost = path_cost_numba(x, y, accumulated_cost, distances)[1]\n",
    "    \n",
    "    return cost"
   ]
  },
  {
   "cell_type": "code",
   "execution_count": null,
   "metadata": {},
   "outputs": [],
   "source": [
    "%%time\n",
    "k=10\n",
    "trans = umap.UMAP(n_neighbors=k, # number of neighbours for manifold approximation\n",
    "                      min_dist=0.1, # \n",
    "                      n_components=2, # dimension of low dimensional representation\n",
    "                      metric=std_dif, # metric for distance between points in high dimensional space\n",
    "                        set_op_mix_ratio=1,\n",
    "                        init='random',\n",
    "                        random_state=random_state\n",
    "                     ).fit(samples_norm)"
   ]
  },
  {
   "cell_type": "code",
   "execution_count": null,
   "metadata": {},
   "outputs": [],
   "source": [
    "%%time\n",
    "embedding2d = trans.transform(samples_norm)\n",
    "xs2 = embedding2d[:,0]\n",
    "ys2 = embedding2d[:,1]"
   ]
  },
  {
   "cell_type": "code",
   "execution_count": null,
   "metadata": {},
   "outputs": [],
   "source": [
    "fig = plt.figure(figsize=(30,20))\n",
    "ax = fig.add_subplot(111)\n",
    "ax.set_title('click on point to plot time series')\n",
    "  # 5 points tolerance\n",
    "col = ax.scatter(xs2, ys2, c=radar, picker=5, s=5, cmap='RdYlGn')\n",
    "\n",
    "fig.canvas.mpl_connect('pick_event', onpick)\n",
    "plt.colorbar(col)\n",
    "plt.tight_layout()\n",
    "plt.show()"
   ]
  },
  {
   "cell_type": "code",
   "execution_count": null,
   "metadata": {},
   "outputs": [],
   "source": [
    "fig = plt.figure(figsize=(30,20))\n",
    "ax = fig.add_subplot(111)\n",
    "ax.set_title('click on point to plot time series')\n",
    "  # 5 points tolerance\n",
    "col = ax.scatter(xs2, ys2, c=rain_rate_x, picker=5, s=3, cmap='viridis', norm=mpl.colors.LogNorm())\n",
    "\n",
    "fig.canvas.mpl_connect('pick_event', onpick)\n",
    "plt.colorbar(col)\n",
    "# plt.axis('off')\n",
    "plt.tight_layout()\n",
    "plt.show()"
   ]
  },
  {
   "cell_type": "code",
   "execution_count": null,
   "metadata": {},
   "outputs": [],
   "source": [
    "fig = plt.figure(figsize=(30,20))\n",
    "ax = fig.add_subplot(111)\n",
    "ax.set_title('click on point to plot time series')\n",
    "  # 5 points tolerance\n",
    "col = ax.scatter(xs2, ys2, c=id_list_num, picker=5, s=3, cmap=plt.cm.get_cmap('viridis', 15))\n",
    "fig.canvas.mpl_connect('pick_event', onpick)\n",
    "plt.colorbar(col)\n",
    "# plt.axis('off')\n",
    "plt.tight_layout()\n",
    "plt.show()"
   ]
  },
  {
   "cell_type": "code",
   "execution_count": null,
   "metadata": {},
   "outputs": [],
   "source": []
  }
 ],
 "metadata": {
  "kernelspec": {
   "display_name": "Python 3",
   "language": "python",
   "name": "python3"
  },
  "language_info": {
   "codemirror_mode": {
    "name": "ipython",
    "version": 3
   },
   "file_extension": ".py",
   "mimetype": "text/x-python",
   "name": "python",
   "nbconvert_exporter": "python",
   "pygments_lexer": "ipython3",
   "version": "3.8.1"
  }
 },
 "nbformat": 4,
 "nbformat_minor": 4
}
